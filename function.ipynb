{
 "cells": [
  {
   "cell_type": "code",
   "execution_count": 1,
   "id": "b05c54c9-a4a0-41f6-b0bc-5472684c875f",
   "metadata": {},
   "outputs": [
    {
     "name": "stdout",
     "output_type": "stream",
     "text": [
      "5\n"
     ]
    }
   ],
   "source": [
    "a = 2\n",
    "b = 3\n",
    "print(a+b)"
   ]
  },
  {
   "cell_type": "code",
   "execution_count": 6,
   "id": "fb16d75b-e68a-432d-9adb-b717bfdf39b7",
   "metadata": {},
   "outputs": [
    {
     "name": "stdout",
     "output_type": "stream",
     "text": [
      "5\n"
     ]
    }
   ],
   "source": [
    "def add():\n",
    "    a = 2\n",
    "    b = 3\n",
    "    print(a+b)\n",
    "add()\n",
    "\n"
   ]
  },
  {
   "cell_type": "code",
   "execution_count": 8,
   "id": "ab09fc7c-1191-43b8-99ce-b37f9f6ab16e",
   "metadata": {},
   "outputs": [
    {
     "ename": "TypeError",
     "evalue": "add() takes 0 positional arguments but 1 was given",
     "output_type": "error",
     "traceback": [
      "\u001b[1;31m---------------------------------------------------------------------------\u001b[0m",
      "\u001b[1;31mTypeError\u001b[0m                                 Traceback (most recent call last)",
      "Cell \u001b[1;32mIn[8], line 1\u001b[0m\n\u001b[1;32m----> 1\u001b[0m \u001b[43madd\u001b[49m\u001b[43m(\u001b[49m\u001b[38;5;241;43m7\u001b[39;49m\u001b[38;5;241;43m+\u001b[39;49m\u001b[38;5;241;43m8\u001b[39;49m\u001b[43m)\u001b[49m\n",
      "\u001b[1;31mTypeError\u001b[0m: add() takes 0 positional arguments but 1 was given"
     ]
    }
   ],
   "source": [
    "add(7+8)"
   ]
  },
  {
   "cell_type": "code",
   "execution_count": 10,
   "id": "37701e18-dfa6-4d4d-82ee-421bbd1a18c6",
   "metadata": {},
   "outputs": [
    {
     "name": "stdout",
     "output_type": "stream",
     "text": [
      "12\n"
     ]
    }
   ],
   "source": [
    "def add(a,b):# parameter\n",
    "    print(a+b)\n",
    "add(7,5) #positional arguments\n"
   ]
  },
  {
   "cell_type": "code",
   "execution_count": 11,
   "id": "a8b8a4d1-4e36-4dc9-9f1a-e9510765a96b",
   "metadata": {},
   "outputs": [
    {
     "name": "stdout",
     "output_type": "stream",
     "text": [
      "11\n"
     ]
    }
   ],
   "source": [
    "add(6,5)"
   ]
  },
  {
   "cell_type": "code",
   "execution_count": 12,
   "id": "077eda28-69bb-452a-800c-1445706a0f2c",
   "metadata": {},
   "outputs": [
    {
     "name": "stdin",
     "output_type": "stream",
     "text": [
      "enter the first number 2\n",
      "enter the second number 3\n"
     ]
    },
    {
     "name": "stdout",
     "output_type": "stream",
     "text": [
      "5\n"
     ]
    }
   ],
   "source": [
    "add(int(input(\"enter the first number\")),int(input(\"enter the second number\")))"
   ]
  },
  {
   "cell_type": "code",
   "execution_count": 19,
   "id": "6eb38725-6d1c-4001-ab81-402f8532a71e",
   "metadata": {},
   "outputs": [
    {
     "name": "stdout",
     "output_type": "stream",
     "text": [
      "35\n"
     ]
    }
   ],
   "source": [
    "lis= [1,2,1,5,3,5,2,7,3,6]\n",
    "zero = 0\n",
    "for i in lis:\n",
    "    zero=zero+i\n",
    "print(zero)"
   ]
  },
  {
   "cell_type": "code",
   "execution_count": 25,
   "id": "84200c4e-4364-4710-b4e4-9024a9b0dcaf",
   "metadata": {},
   "outputs": [
    {
     "name": "stdout",
     "output_type": "stream",
     "text": [
      "35\n"
     ]
    },
    {
     "data": {
      "text/plain": [
       "6"
      ]
     },
     "execution_count": 25,
     "metadata": {},
     "output_type": "execute_result"
    }
   ],
   "source": [
    "def add(a):\n",
    "    zero = 0\n",
    "    for i in lis:\n",
    "        zero=zero+i\n",
    "    print(zero)\n",
    "lis= [1,2,1,5,3,5,2,7,3,6]\n",
    "add(lis)"
   ]
  },
  {
   "cell_type": "code",
   "execution_count": 35,
   "id": "c0143c95-a84a-4bef-9392-d0382e0d8cbf",
   "metadata": {},
   "outputs": [
    {
     "name": "stdout",
     "output_type": "stream",
     "text": [
      "[6, 3, 7, 2, 5, 3, 5, 1, 2, 1]\n"
     ]
    }
   ],
   "source": [
    "lis= [1,2,1,5,3,5,2,7,3,6]\n",
    "print(lis[::-1])\n"
   ]
  },
  {
   "cell_type": "code",
   "execution_count": 39,
   "id": "dc8b0c6b-0888-4ab3-bb18-3e2d0908fc93",
   "metadata": {},
   "outputs": [
    {
     "data": {
      "text/plain": [
       "[6, 3, 7, 2, 5, 3, 5, 1, 2, 1]"
      ]
     },
     "execution_count": 39,
     "metadata": {},
     "output_type": "execute_result"
    }
   ],
   "source": [
    "def rever(a):\n",
    "    return a[:: -1]\n",
    "\n",
    "lis= [1,2,1,5,3,5,2,7,3,6]\n",
    "rever(lis)"
   ]
  },
  {
   "cell_type": "code",
   "execution_count": 40,
   "id": "625a23dc-8072-4fa5-8077-e237c5d9f088",
   "metadata": {},
   "outputs": [
    {
     "name": "stdout",
     "output_type": "stream",
     "text": [
      "10\n"
     ]
    }
   ],
   "source": [
    "zero=0\n",
    "for i in lis:\n",
    "    if i%2==0:\n",
    "        zero+=i\n",
    "print(zero)\n",
    "        \n",
    "    "
   ]
  },
  {
   "cell_type": "code",
   "execution_count": 42,
   "id": "f1b874c8-5a4a-4a06-9250-89a08837a4e8",
   "metadata": {},
   "outputs": [
    {
     "name": "stdout",
     "output_type": "stream",
     "text": [
      "24\n"
     ]
    }
   ],
   "source": [
    "def addodd(a):\n",
    "    zero=1\n",
    "    for i in lis:\n",
    "        if i%2==0:\n",
    "            zero*=i\n",
    "    print(zero)\n",
    "lis= [6, 3, 7, 2, 5, 3, 5, 1, 2, 1]\n",
    "addodd(lis)\n"
   ]
  },
  {
   "cell_type": "code",
   "execution_count": 45,
   "id": "5dfd28af-d5c8-4f2c-b4b4-86060fdd70e4",
   "metadata": {},
   "outputs": [
    {
     "name": "stdout",
     "output_type": "stream",
     "text": [
      "[6, 3, 7, 2, 5, 1]\n"
     ]
    }
   ],
   "source": [
    "nd = []\n",
    "for i in lis:\n",
    "    if i not in nd:\n",
    "        nd.append(i)\n",
    "print(nd)\n",
    "    "
   ]
  },
  {
   "cell_type": "code",
   "execution_count": 49,
   "id": "25822070-1774-49fa-9208-d1cce1af3407",
   "metadata": {},
   "outputs": [
    {
     "name": "stdout",
     "output_type": "stream",
     "text": [
      "[6, 3, 7, 2, 5, 1]\n"
     ]
    }
   ],
   "source": [
    "def dup(a):\n",
    "    for i in a:\n",
    "        if i not in nd:\n",
    "            nd.append(i)\n",
    "    print(nd)\n",
    "li= [6, 3, 7, 2, 5, 3, 5, 1, 2, 1]\n",
    "dup(li)"
   ]
  },
  {
   "cell_type": "code",
   "execution_count": 53,
   "id": "5f0ebd9f-cfd8-48f9-a7ed-9bd9a8e821b4",
   "metadata": {},
   "outputs": [
    {
     "name": "stdout",
     "output_type": "stream",
     "text": [
      "[3, 5, 2, 1]\n"
     ]
    }
   ],
   "source": [
    "li2=[]\n",
    "li3=[]\n",
    "for i in li:\n",
    "    li2.append(i)\n",
    "    if li2.count(i) > 1:\n",
    "        li3.append(i)\n",
    "print(li3)"
   ]
  },
  {
   "cell_type": "code",
   "execution_count": 56,
   "id": "ed496cb3-c6d7-45f5-bc93-07e1a867716e",
   "metadata": {},
   "outputs": [
    {
     "name": "stdout",
     "output_type": "stream",
     "text": [
      "[6, 3, 7, 2, 5, 3, 5, 2, 1, 9]\n"
     ]
    }
   ],
   "source": [
    "li1 = [6, 3, 7, 2, 5]\n",
    "li4 = [3, 5, 2, 1,9]\n",
    "li1.extend(li4)\n",
    "print(li1)"
   ]
  },
  {
   "cell_type": "code",
   "execution_count": 58,
   "id": "09237245-6709-4059-b84a-e10b3f18a712",
   "metadata": {},
   "outputs": [
    {
     "name": "stdout",
     "output_type": "stream",
     "text": [
      "[3, 5, 2, 1, 9, 6, 3, 7, 2, 5, 3, 5, 2, 1, 9, 6, 3, 7, 2, 5, 3, 5, 2, 1, 9]\n"
     ]
    }
   ],
   "source": [
    "for i in li1:\n",
    "    li4.append(i)\n",
    "print(li4)"
   ]
  },
  {
   "cell_type": "code",
   "execution_count": 60,
   "id": "62b25d15-7635-435d-8663-aaf54830b9bc",
   "metadata": {},
   "outputs": [
    {
     "name": "stdout",
     "output_type": "stream",
     "text": [
      "[6, 3, 7, 2, 5, 3, 5, 2, 1, 9, 3, 5, 2, 1, 9, 6, 3, 7, 2, 5, 3, 5, 2, 1, 9, 6, 3, 7, 2, 5, 3, 5, 2, 1, 9]\n"
     ]
    }
   ],
   "source": [
    "l= []\n",
    "for i in li1:\n",
    "    l.append(i)\n",
    "for j in li4:\n",
    "    l.append(j)\n",
    "print(l)"
   ]
  },
  {
   "cell_type": "code",
   "execution_count": 61,
   "id": "de70a277-7ac0-4044-9632-ea478122b7f1",
   "metadata": {},
   "outputs": [
    {
     "name": "stdout",
     "output_type": "stream",
     "text": [
      "[3, 5, 2, 1, 9, 6, 7]\n"
     ]
    }
   ],
   "source": [
    "li1 = [6, 3, 7, 2, 5]\n",
    "li4 = [3, 5, 2, 1,9]\n",
    "for i in li1:\n",
    "    if i not in li4:\n",
    "        li4.append(i)\n",
    "\n",
    "print(li4)"
   ]
  },
  {
   "cell_type": "code",
   "execution_count": 64,
   "id": "3aa8728b-df35-4e1a-88ba-b99905041798",
   "metadata": {},
   "outputs": [
    {
     "name": "stdout",
     "output_type": "stream",
     "text": [
      "[3, 5, 2, 1, 9, 6, 7]\n"
     ]
    }
   ],
   "source": [
    "def con(a,b):\n",
    "    for i in a:\n",
    "        if i not in b:\n",
    "            b.append(i)\n",
    "    print(b)\n",
    "aa = [6, 3, 7, 2, 5]\n",
    "bb = [3, 5, 2, 1,9]   \n",
    "con(aa,bb)"
   ]
  },
  {
   "cell_type": "code",
   "execution_count": 66,
   "id": "6f6af709-cdd0-4d69-80f5-5b8c6108d05c",
   "metadata": {},
   "outputs": [
    {
     "name": "stdout",
     "output_type": "stream",
     "text": [
      "[2, 4, 6, 8, 1, 3, 5, 7]\n"
     ]
    }
   ],
   "source": [
    "ab = [1,3,5,7]\n",
    "bc = [2,4,6,8]\n",
    "con(ab,bc)"
   ]
  },
  {
   "cell_type": "code",
   "execution_count": 74,
   "id": "51f9dc54-8c2a-49c1-8f33-d73b72eb8122",
   "metadata": {},
   "outputs": [
    {
     "data": {
      "text/plain": [
       "('prottoy', 23)"
      ]
     },
     "execution_count": 74,
     "metadata": {},
     "output_type": "execute_result"
    }
   ],
   "source": [
    "#  keyword argument\n",
    "def details(nam, boyos):\n",
    "    name = nam\n",
    "    age = boyos\n",
    "    return name, age\n",
    "\n",
    "details(boyos = 23,nam = \"prottoy\" )"
   ]
  },
  {
   "cell_type": "code",
   "execution_count": 89,
   "id": "a76f3836-fd81-4143-aa28-37f2035b74bc",
   "metadata": {},
   "outputs": [
    {
     "data": {
      "text/plain": [
       "('prottoy', 26)"
      ]
     },
     "execution_count": 89,
     "metadata": {},
     "output_type": "execute_result"
    }
   ],
   "source": [
    "#  keyword argument\n",
    "def details(age, name = \"prottoy\"):\n",
    "    name = name\n",
    "    age = age\n",
    "    return name ,age\n",
    "    \n",
    "details(26)"
   ]
  },
  {
   "cell_type": "code",
   "execution_count": 86,
   "id": "b9c12a5e-3ce6-41d2-b714-5e9b78bdfbaa",
   "metadata": {},
   "outputs": [
    {
     "data": {
      "text/plain": [
       "('prottoy', 26)"
      ]
     },
     "execution_count": 86,
     "metadata": {},
     "output_type": "execute_result"
    }
   ],
   "source": [
    "def details(age, name=\"prottoy\"):\n",
    "    return name, age\n",
    "    \n",
    "details(26)\n"
   ]
  },
  {
   "cell_type": "code",
   "execution_count": 93,
   "id": "a37fb6ca-b356-49f8-b7ae-89ba92713bf6",
   "metadata": {},
   "outputs": [
    {
     "name": "stdout",
     "output_type": "stream",
     "text": [
      "1\n",
      "25\n",
      "81\n",
      "64\n"
     ]
    }
   ],
   "source": [
    "l = [1,5,9,8]\n",
    "for i in l :\n",
    "    print(i*i)"
   ]
  },
  {
   "cell_type": "code",
   "execution_count": 94,
   "id": "e7ee8161-de6f-4da7-a03e-1b6ca78481f3",
   "metadata": {},
   "outputs": [
    {
     "name": "stdin",
     "output_type": "stream",
     "text": [
      "enter a number 10\n",
      "enter the second number bigger than 1st number 20\n"
     ]
    },
    {
     "name": "stdout",
     "output_type": "stream",
     "text": [
      "165\n"
     ]
    }
   ],
   "source": [
    "val1 = int(input(\"enter a number\"))\n",
    "val2 = int(input(\"enter the second number bigger than 1st number\"))\n",
    "zero = 0\n",
    "for i in range(val1,val2+1):\n",
    "    zero+=i\n",
    "print(zero)"
   ]
  },
  {
   "cell_type": "code",
   "execution_count": 95,
   "id": "76832f5f-c912-4438-a0d2-1b075ae21c39",
   "metadata": {},
   "outputs": [
    {
     "data": {
      "text/plain": [
       "'sajib'"
      ]
     },
     "execution_count": 95,
     "metadata": {},
     "output_type": "execute_result"
    }
   ],
   "source": [
    "def name():\n",
    "    return  \"sajib\"\n",
    "\n",
    "name()"
   ]
  },
  {
   "cell_type": "code",
   "execution_count": 96,
   "id": "7fa3ba74-8570-4c71-83c6-28a76e9be720",
   "metadata": {},
   "outputs": [
    {
     "name": "stdout",
     "output_type": "stream",
     "text": [
      "prottoy\n"
     ]
    },
    {
     "data": {
      "text/plain": [
       "'sajib'"
      ]
     },
     "execution_count": 96,
     "metadata": {},
     "output_type": "execute_result"
    }
   ],
   "source": [
    "def name():\n",
    "    print(\"prottoy\")\n",
    "    return  \"sajib\"\n",
    "\n",
    "name()"
   ]
  },
  {
   "cell_type": "code",
   "execution_count": 97,
   "id": "0c20faac-1b66-47c5-985f-5c7722493d2f",
   "metadata": {},
   "outputs": [
    {
     "data": {
      "text/plain": [
       "'the name of the department is CSE'"
      ]
     },
     "execution_count": 97,
     "metadata": {},
     "output_type": "execute_result"
    }
   ],
   "source": [
    "def name(dep):\n",
    "    return(f\"the name of the department is {dep}\")\n",
    "\n",
    "name(\"CSE\")"
   ]
  },
  {
   "cell_type": "code",
   "execution_count": 101,
   "id": "e1e15035-8498-4192-8340-52ad1ca7bc28",
   "metadata": {},
   "outputs": [
    {
     "name": "stdin",
     "output_type": "stream",
     "text": [
      "enter a number 8\n",
      "enter the second number bigger than 1st number 9\n",
      "enter a number 7\n",
      "enter the second number bigger than 1st number 6\n"
     ]
    },
    {
     "data": {
      "text/plain": [
       "((8, 7), (9, 6))"
      ]
     },
     "execution_count": 101,
     "metadata": {},
     "output_type": "execute_result"
    }
   ],
   "source": [
    "def user():\n",
    "    val1 = int(input(\"enter a number\"))\n",
    "    val2 = int(input(\"enter the second number bigger than 1st number\"))\n",
    "    va1 = int(input(\"enter a number\"))\n",
    "    va2 = int(input(\"enter the second number bigger than 1st number\"))\n",
    "    return (val1,va1),(val2,va2)\n",
    "\n",
    "user()"
   ]
  },
  {
   "cell_type": "code",
   "execution_count": 102,
   "id": "2b12f11e-cf8e-468a-a3b9-1a85258b2c88",
   "metadata": {},
   "outputs": [
    {
     "name": "stdin",
     "output_type": "stream",
     "text": [
      "enter a number 8\n",
      "enter the second number bigger than 1st number 9\n",
      "enter a number 7\n",
      "enter the second number bigger than 1st number 6\n"
     ]
    }
   ],
   "source": [
    "value1, value2 = user()"
   ]
  },
  {
   "cell_type": "code",
   "execution_count": 103,
   "id": "ece0d2bd-47c3-4d18-b099-b15de41e9da8",
   "metadata": {},
   "outputs": [
    {
     "data": {
      "text/plain": [
       "(8, 7)"
      ]
     },
     "execution_count": 103,
     "metadata": {},
     "output_type": "execute_result"
    }
   ],
   "source": [
    "value1"
   ]
  },
  {
   "cell_type": "code",
   "execution_count": 104,
   "id": "479e53ad-9ace-4ff7-8446-e00cd4c38287",
   "metadata": {},
   "outputs": [
    {
     "data": {
      "text/plain": [
       "(9, 6)"
      ]
     },
     "execution_count": 104,
     "metadata": {},
     "output_type": "execute_result"
    }
   ],
   "source": [
    "value2"
   ]
  },
  {
   "cell_type": "code",
   "execution_count": 105,
   "id": "500c4123-7a79-4824-b488-08d5d38e2319",
   "metadata": {},
   "outputs": [
    {
     "name": "stdin",
     "output_type": "stream",
     "text": [
      "enter a number 9\n",
      "enter the second number bigger than 1st number 8\n",
      "enter a number 7\n",
      "enter the second number bigger than 1st number 6\n"
     ]
    }
   ],
   "source": [
    "value1, _ = user()"
   ]
  },
  {
   "cell_type": "code",
   "execution_count": 106,
   "id": "2099a5fa-601d-446c-9aa3-e7285d37ad2e",
   "metadata": {},
   "outputs": [
    {
     "data": {
      "text/plain": [
       "(9, 7)"
      ]
     },
     "execution_count": 106,
     "metadata": {},
     "output_type": "execute_result"
    }
   ],
   "source": [
    "value1"
   ]
  },
  {
   "cell_type": "code",
   "execution_count": null,
   "id": "59a20965-5e58-4e2a-bfcb-2623080a3b25",
   "metadata": {},
   "outputs": [],
   "source": []
  }
 ],
 "metadata": {
  "kernelspec": {
   "display_name": "Python 3 (ipykernel)",
   "language": "python",
   "name": "python3"
  },
  "language_info": {
   "codemirror_mode": {
    "name": "ipython",
    "version": 3
   },
   "file_extension": ".py",
   "mimetype": "text/x-python",
   "name": "python",
   "nbconvert_exporter": "python",
   "pygments_lexer": "ipython3",
   "version": "3.12.3"
  }
 },
 "nbformat": 4,
 "nbformat_minor": 5
}
